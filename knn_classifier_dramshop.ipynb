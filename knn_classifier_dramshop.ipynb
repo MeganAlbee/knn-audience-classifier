{
 "cells": [
  {
   "cell_type": "markdown",
   "id": "3dc987ba",
   "metadata": {},
   "source": [
    "# K-Nearest Neighbors\n",
    "\n",
    "In this project, I explore the KNN algorithm on data from the Dram Shop, a local business in Missoula, Montana. This dataset contains records based on the customers' habits and consumer behaviors. \n",
    "\n",
    "### Goal for Project : \n",
    "* Determine a distance metric between customers\n",
    "* Utilize metrics to implement a k-nearest neighbor algorithm \n",
    "* Check final output accuracy \n",
    "\n",
    "The file `knn-testing-data.txt` holds data with the segments removed. In this file, I apply segments using the KNN algorithm. \n",
    "\n",
    "Using the `testing-true-values.txt` file, I measure my accuracy. "
   ]
  },
  {
   "cell_type": "markdown",
   "id": "d26bb748",
   "metadata": {},
   "source": [
    "# Import Libraries and Packages"
   ]
  },
  {
   "cell_type": "code",
   "execution_count": 36,
   "id": "486a28ec",
   "metadata": {
    "scrolled": true
   },
   "outputs": [],
   "source": [
    "import pandas as pd\n",
    "import scipy.stats\n",
    "import matplotlib.pyplot as plt\n",
    "\n",
    "import numpy as np\n",
    "import seaborn as sns\n",
    "import matplotlib.patches as mpatches\n",
    "\n",
    "from statistics import mode\n",
    "from math import sqrt\n",
    "from sklearn.metrics import classification_report, confusion_matrix"
   ]
  },
  {
   "cell_type": "markdown",
   "id": "a58def89",
   "metadata": {},
   "source": [
    "# Read in the Dataset "
   ]
  },
  {
   "cell_type": "code",
   "execution_count": 2,
   "id": "4622f4b3",
   "metadata": {},
   "outputs": [],
   "source": [
    "#target contains segements\n",
    "dt = pd.read_csv(\"knn-training-data.txt\", sep = \"\\t\")"
   ]
  },
  {
   "cell_type": "code",
   "execution_count": 3,
   "id": "67c2d5c4",
   "metadata": {},
   "outputs": [],
   "source": [
    "#we do need these unique ids we have index\n",
    "dt = dt.drop(['customer_id','most_popular_category'], axis = 1)"
   ]
  },
  {
   "cell_type": "code",
   "execution_count": 41,
   "id": "9fbc6d18",
   "metadata": {},
   "outputs": [
    {
     "data": {
      "text/html": [
       "<div>\n",
       "<style scoped>\n",
       "    .dataframe tbody tr th:only-of-type {\n",
       "        vertical-align: middle;\n",
       "    }\n",
       "\n",
       "    .dataframe tbody tr th {\n",
       "        vertical-align: top;\n",
       "    }\n",
       "\n",
       "    .dataframe thead th {\n",
       "        text-align: right;\n",
       "    }\n",
       "</style>\n",
       "<table border=\"1\" class=\"dataframe\">\n",
       "  <thead>\n",
       "    <tr style=\"text-align: right;\">\n",
       "      <th></th>\n",
       "      <th>relationship_days</th>\n",
       "      <th>total_spend</th>\n",
       "      <th>beverage_categories</th>\n",
       "      <th>segment</th>\n",
       "      <th>distance</th>\n",
       "    </tr>\n",
       "  </thead>\n",
       "  <tbody>\n",
       "    <tr>\n",
       "      <th>0</th>\n",
       "      <td>240</td>\n",
       "      <td>230.75</td>\n",
       "      <td>9</td>\n",
       "      <td>explorer</td>\n",
       "      <td>301.454184</td>\n",
       "    </tr>\n",
       "    <tr>\n",
       "      <th>1</th>\n",
       "      <td>218</td>\n",
       "      <td>117.50</td>\n",
       "      <td>3</td>\n",
       "      <td>explorer</td>\n",
       "      <td>316.228260</td>\n",
       "    </tr>\n",
       "    <tr>\n",
       "      <th>2</th>\n",
       "      <td>139</td>\n",
       "      <td>105.50</td>\n",
       "      <td>4</td>\n",
       "      <td>explorer</td>\n",
       "      <td>283.045601</td>\n",
       "    </tr>\n",
       "    <tr>\n",
       "      <th>3</th>\n",
       "      <td>748</td>\n",
       "      <td>18.00</td>\n",
       "      <td>1</td>\n",
       "      <td>cheapo</td>\n",
       "      <td>780.392890</td>\n",
       "    </tr>\n",
       "    <tr>\n",
       "      <th>4</th>\n",
       "      <td>743</td>\n",
       "      <td>404.50</td>\n",
       "      <td>6</td>\n",
       "      <td>loyal core</td>\n",
       "      <td>759.882762</td>\n",
       "    </tr>\n",
       "  </tbody>\n",
       "</table>\n",
       "</div>"
      ],
      "text/plain": [
       "   relationship_days  total_spend  beverage_categories     segment    distance\n",
       "0                240       230.75                    9    explorer  301.454184\n",
       "1                218       117.50                    3    explorer  316.228260\n",
       "2                139       105.50                    4    explorer  283.045601\n",
       "3                748        18.00                    1      cheapo  780.392890\n",
       "4                743       404.50                    6  loyal core  759.882762"
      ]
     },
     "execution_count": 41,
     "metadata": {},
     "output_type": "execute_result"
    }
   ],
   "source": [
    "#Previewing the dataset after dropping categorical information\n",
    "dt.head()"
   ]
  },
  {
   "cell_type": "markdown",
   "id": "f954e1b5",
   "metadata": {},
   "source": [
    "# Creat Training set"
   ]
  },
  {
   "cell_type": "code",
   "execution_count": 5,
   "id": "3c97c817",
   "metadata": {},
   "outputs": [
    {
     "data": {
      "text/html": [
       "<div>\n",
       "<style scoped>\n",
       "    .dataframe tbody tr th:only-of-type {\n",
       "        vertical-align: middle;\n",
       "    }\n",
       "\n",
       "    .dataframe tbody tr th {\n",
       "        vertical-align: top;\n",
       "    }\n",
       "\n",
       "    .dataframe thead th {\n",
       "        text-align: right;\n",
       "    }\n",
       "</style>\n",
       "<table border=\"1\" class=\"dataframe\">\n",
       "  <thead>\n",
       "    <tr style=\"text-align: right;\">\n",
       "      <th></th>\n",
       "      <th>relationship_days</th>\n",
       "      <th>total_spend</th>\n",
       "      <th>beverage_categories</th>\n",
       "      <th>segment</th>\n",
       "      <th>distance</th>\n",
       "    </tr>\n",
       "  </thead>\n",
       "  <tbody>\n",
       "    <tr>\n",
       "      <th>0</th>\n",
       "      <td>240</td>\n",
       "      <td>230.75</td>\n",
       "      <td>9</td>\n",
       "      <td>explorer</td>\n",
       "      <td>9999</td>\n",
       "    </tr>\n",
       "    <tr>\n",
       "      <th>1</th>\n",
       "      <td>218</td>\n",
       "      <td>117.50</td>\n",
       "      <td>3</td>\n",
       "      <td>explorer</td>\n",
       "      <td>9999</td>\n",
       "    </tr>\n",
       "    <tr>\n",
       "      <th>2</th>\n",
       "      <td>139</td>\n",
       "      <td>105.50</td>\n",
       "      <td>4</td>\n",
       "      <td>explorer</td>\n",
       "      <td>9999</td>\n",
       "    </tr>\n",
       "    <tr>\n",
       "      <th>3</th>\n",
       "      <td>748</td>\n",
       "      <td>18.00</td>\n",
       "      <td>1</td>\n",
       "      <td>cheapo</td>\n",
       "      <td>9999</td>\n",
       "    </tr>\n",
       "    <tr>\n",
       "      <th>4</th>\n",
       "      <td>743</td>\n",
       "      <td>404.50</td>\n",
       "      <td>6</td>\n",
       "      <td>loyal core</td>\n",
       "      <td>9999</td>\n",
       "    </tr>\n",
       "  </tbody>\n",
       "</table>\n",
       "</div>"
      ],
      "text/plain": [
       "   relationship_days  total_spend  beverage_categories     segment distance\n",
       "0                240       230.75                    9    explorer     9999\n",
       "1                218       117.50                    3    explorer     9999\n",
       "2                139       105.50                    4    explorer     9999\n",
       "3                748        18.00                    1      cheapo     9999\n",
       "4                743       404.50                    6  loyal core     9999"
      ]
     },
     "execution_count": 5,
     "metadata": {},
     "output_type": "execute_result"
    }
   ],
   "source": [
    "train = dt\n",
    "cols = ['explorer', 'cheapo', 'loyal core', 'newbie']\n",
    "train.rename(columns = {cols[0]:0, cols[1]:1, cols[2]:2, cols[3]:3 })\n",
    "train['distance'] = '9999'\n",
    "train.head()"
   ]
  },
  {
   "cell_type": "code",
   "execution_count": 6,
   "id": "8f2797de",
   "metadata": {
    "scrolled": true
   },
   "outputs": [
    {
     "data": {
      "text/plain": [
       "0     36.00\n",
       "1    240.00\n",
       "2    230.75\n",
       "3      9.00\n",
       "dtype: float64"
      ]
     },
     "execution_count": 6,
     "metadata": {},
     "output_type": "execute_result"
    }
   ],
   "source": [
    "#target in the form of a data frame. It is our unknown target we are trying to define using KNN\n",
    "target = pd.Series([36, 240, 230.75, 9])\n",
    "target"
   ]
  },
  {
   "cell_type": "code",
   "execution_count": 8,
   "id": "f7afc6d8",
   "metadata": {
    "scrolled": false
   },
   "outputs": [
    {
     "data": {
      "text/html": [
       "<div>\n",
       "<style scoped>\n",
       "    .dataframe tbody tr th:only-of-type {\n",
       "        vertical-align: middle;\n",
       "    }\n",
       "\n",
       "    .dataframe tbody tr th {\n",
       "        vertical-align: top;\n",
       "    }\n",
       "\n",
       "    .dataframe thead th {\n",
       "        text-align: right;\n",
       "    }\n",
       "</style>\n",
       "<table border=\"1\" class=\"dataframe\">\n",
       "  <thead>\n",
       "    <tr style=\"text-align: right;\">\n",
       "      <th></th>\n",
       "      <th>relationship_days</th>\n",
       "      <th>total_spend</th>\n",
       "      <th>beverage_categories</th>\n",
       "      <th>segment</th>\n",
       "      <th>distance</th>\n",
       "    </tr>\n",
       "  </thead>\n",
       "  <tbody>\n",
       "    <tr>\n",
       "      <th>0</th>\n",
       "      <td>240</td>\n",
       "      <td>230.75</td>\n",
       "      <td>9</td>\n",
       "      <td>explorer</td>\n",
       "      <td>301.454184</td>\n",
       "    </tr>\n",
       "    <tr>\n",
       "      <th>10</th>\n",
       "      <td>338</td>\n",
       "      <td>37.00</td>\n",
       "      <td>2</td>\n",
       "      <td>newbie</td>\n",
       "      <td>429.813404</td>\n",
       "    </tr>\n",
       "    <tr>\n",
       "      <th>20</th>\n",
       "      <td>542</td>\n",
       "      <td>56.75</td>\n",
       "      <td>4</td>\n",
       "      <td>cheapo</td>\n",
       "      <td>583.979559</td>\n",
       "    </tr>\n",
       "    <tr>\n",
       "      <th>30</th>\n",
       "      <td>412</td>\n",
       "      <td>31.00</td>\n",
       "      <td>5</td>\n",
       "      <td>cheapo</td>\n",
       "      <td>485.818961</td>\n",
       "    </tr>\n",
       "    <tr>\n",
       "      <th>40</th>\n",
       "      <td>119</td>\n",
       "      <td>157.00</td>\n",
       "      <td>8</td>\n",
       "      <td>explorer</td>\n",
       "      <td>251.784754</td>\n",
       "    </tr>\n",
       "    <tr>\n",
       "      <th>...</th>\n",
       "      <td>...</td>\n",
       "      <td>...</td>\n",
       "      <td>...</td>\n",
       "      <td>...</td>\n",
       "      <td>...</td>\n",
       "    </tr>\n",
       "    <tr>\n",
       "      <th>16050</th>\n",
       "      <td>517</td>\n",
       "      <td>40.50</td>\n",
       "      <td>2</td>\n",
       "      <td>cheapo</td>\n",
       "      <td>568.759890</td>\n",
       "    </tr>\n",
       "    <tr>\n",
       "      <th>16060</th>\n",
       "      <td>976</td>\n",
       "      <td>132.00</td>\n",
       "      <td>6</td>\n",
       "      <td>loyal core</td>\n",
       "      <td>972.510443</td>\n",
       "    </tr>\n",
       "    <tr>\n",
       "      <th>16070</th>\n",
       "      <td>363</td>\n",
       "      <td>332.00</td>\n",
       "      <td>7</td>\n",
       "      <td>loyal core</td>\n",
       "      <td>406.764136</td>\n",
       "    </tr>\n",
       "    <tr>\n",
       "      <th>16080</th>\n",
       "      <td>112</td>\n",
       "      <td>20.00</td>\n",
       "      <td>2</td>\n",
       "      <td>newbie</td>\n",
       "      <td>326.347303</td>\n",
       "    </tr>\n",
       "    <tr>\n",
       "      <th>16090</th>\n",
       "      <td>148</td>\n",
       "      <td>29.50</td>\n",
       "      <td>3</td>\n",
       "      <td>newbie</td>\n",
       "      <td>329.733699</td>\n",
       "    </tr>\n",
       "  </tbody>\n",
       "</table>\n",
       "<p>1610 rows × 5 columns</p>\n",
       "</div>"
      ],
      "text/plain": [
       "       relationship_days  total_spend  beverage_categories     segment  \\\n",
       "0                    240       230.75                    9    explorer   \n",
       "10                   338        37.00                    2      newbie   \n",
       "20                   542        56.75                    4      cheapo   \n",
       "30                   412        31.00                    5      cheapo   \n",
       "40                   119       157.00                    8    explorer   \n",
       "...                  ...          ...                  ...         ...   \n",
       "16050                517        40.50                    2      cheapo   \n",
       "16060                976       132.00                    6  loyal core   \n",
       "16070                363       332.00                    7  loyal core   \n",
       "16080                112        20.00                    2      newbie   \n",
       "16090                148        29.50                    3      newbie   \n",
       "\n",
       "         distance  \n",
       "0      301.454184  \n",
       "10     429.813404  \n",
       "20     583.979559  \n",
       "30     485.818961  \n",
       "40     251.784754  \n",
       "...           ...  \n",
       "16050  568.759890  \n",
       "16060  972.510443  \n",
       "16070  406.764136  \n",
       "16080  326.347303  \n",
       "16090  329.733699  \n",
       "\n",
       "[1610 rows x 5 columns]"
      ]
     },
     "execution_count": 8,
     "metadata": {},
     "output_type": "execute_result"
    }
   ],
   "source": [
    "#using the euclidean distance formula to calc the distance from target item\n",
    "train['distance'] = ((train.loc[:,'relationship_days']-target[0])**2 + (train.loc[:,'total_spend']-target[1])**2 + (train.loc[:,'beverage_categories']-target[2])**2)** 0.5\n",
    "\n",
    "#print every 10th\n",
    "train.loc[::10]"
   ]
  },
  {
   "cell_type": "code",
   "execution_count": 9,
   "id": "91c29c4b",
   "metadata": {
    "scrolled": true
   },
   "outputs": [
    {
     "data": {
      "text/html": [
       "<div>\n",
       "<style scoped>\n",
       "    .dataframe tbody tr th:only-of-type {\n",
       "        vertical-align: middle;\n",
       "    }\n",
       "\n",
       "    .dataframe tbody tr th {\n",
       "        vertical-align: top;\n",
       "    }\n",
       "\n",
       "    .dataframe thead th {\n",
       "        text-align: right;\n",
       "    }\n",
       "</style>\n",
       "<table border=\"1\" class=\"dataframe\">\n",
       "  <thead>\n",
       "    <tr style=\"text-align: right;\">\n",
       "      <th></th>\n",
       "      <th>relationship_days</th>\n",
       "      <th>total_spend</th>\n",
       "      <th>beverage_categories</th>\n",
       "      <th>segment</th>\n",
       "      <th>distance</th>\n",
       "    </tr>\n",
       "  </thead>\n",
       "  <tbody>\n",
       "    <tr>\n",
       "      <th>15725</th>\n",
       "      <td>103</td>\n",
       "      <td>231.25</td>\n",
       "      <td>12</td>\n",
       "      <td>explorer</td>\n",
       "      <td>228.947865</td>\n",
       "    </tr>\n",
       "    <tr>\n",
       "      <th>7301</th>\n",
       "      <td>109</td>\n",
       "      <td>237.50</td>\n",
       "      <td>13</td>\n",
       "      <td>explorer</td>\n",
       "      <td>229.674362</td>\n",
       "    </tr>\n",
       "    <tr>\n",
       "      <th>1342</th>\n",
       "      <td>108</td>\n",
       "      <td>261.25</td>\n",
       "      <td>12</td>\n",
       "      <td>explorer</td>\n",
       "      <td>231.272837</td>\n",
       "    </tr>\n",
       "    <tr>\n",
       "      <th>2877</th>\n",
       "      <td>101</td>\n",
       "      <td>219.00</td>\n",
       "      <td>9</td>\n",
       "      <td>explorer</td>\n",
       "      <td>232.032460</td>\n",
       "    </tr>\n",
       "    <tr>\n",
       "      <th>12017</th>\n",
       "      <td>116</td>\n",
       "      <td>228.50</td>\n",
       "      <td>12</td>\n",
       "      <td>explorer</td>\n",
       "      <td>233.203372</td>\n",
       "    </tr>\n",
       "  </tbody>\n",
       "</table>\n",
       "</div>"
      ],
      "text/plain": [
       "       relationship_days  total_spend  beverage_categories   segment  \\\n",
       "15725                103       231.25                   12  explorer   \n",
       "7301                 109       237.50                   13  explorer   \n",
       "1342                 108       261.25                   12  explorer   \n",
       "2877                 101       219.00                    9  explorer   \n",
       "12017                116       228.50                   12  explorer   \n",
       "\n",
       "         distance  \n",
       "15725  228.947865  \n",
       "7301   229.674362  \n",
       "1342   231.272837  \n",
       "2877   232.032460  \n",
       "12017  233.203372  "
      ]
     },
     "execution_count": 9,
     "metadata": {},
     "output_type": "execute_result"
    }
   ],
   "source": [
    "train.sort_values('distance', ascending = True).head()"
   ]
  },
  {
   "cell_type": "code",
   "execution_count": 10,
   "id": "52e7d7c6",
   "metadata": {},
   "outputs": [
    {
     "data": {
      "text/plain": [
       "['explorer',\n",
       " 'explorer',\n",
       " 'explorer',\n",
       " 'explorer',\n",
       " 'explorer',\n",
       " 'explorer',\n",
       " 'explorer']"
      ]
     },
     "execution_count": 10,
     "metadata": {},
     "output_type": "execute_result"
    }
   ],
   "source": [
    "k = 7\n",
    "train = train.sort_values('distance', ascending = True)\n",
    "knn = list(train.head(k).segment)\n",
    "knn"
   ]
  },
  {
   "cell_type": "code",
   "execution_count": 42,
   "id": "251d22c6",
   "metadata": {
    "scrolled": true
   },
   "outputs": [
    {
     "name": "stdout",
     "output_type": "stream",
     "text": [
      "explorer\n"
     ]
    }
   ],
   "source": [
    "print(mode(knn))"
   ]
  },
  {
   "cell_type": "code",
   "execution_count": 13,
   "id": "22a3a86d",
   "metadata": {
    "scrolled": true
   },
   "outputs": [
    {
     "data": {
      "text/plain": [
       "['explorer',\n",
       " 'explorer',\n",
       " 'explorer',\n",
       " 'explorer',\n",
       " 'explorer',\n",
       " 'explorer',\n",
       " 'explorer']"
      ]
     },
     "execution_count": 13,
     "metadata": {},
     "output_type": "execute_result"
    }
   ],
   "source": [
    "k = 7\n",
    "train = train.sort_values('distance', ascending = True)\n",
    "knn = list(train.head(k).segment)\n",
    "knn"
   ]
  },
  {
   "cell_type": "markdown",
   "id": "14efadde",
   "metadata": {},
   "source": [
    "# Read in Testing Data"
   ]
  },
  {
   "cell_type": "code",
   "execution_count": 14,
   "id": "497126cd",
   "metadata": {},
   "outputs": [],
   "source": [
    "testing = pd.read_csv(\"knn-testing-data.txt\", sep = \"\\t\")"
   ]
  },
  {
   "cell_type": "code",
   "execution_count": 15,
   "id": "6bd16dba",
   "metadata": {},
   "outputs": [],
   "source": [
    "testing['prediction'] = ''"
   ]
  },
  {
   "cell_type": "code",
   "execution_count": 17,
   "id": "52b3e330",
   "metadata": {
    "scrolled": false
   },
   "outputs": [
    {
     "data": {
      "text/html": [
       "<div>\n",
       "<style scoped>\n",
       "    .dataframe tbody tr th:only-of-type {\n",
       "        vertical-align: middle;\n",
       "    }\n",
       "\n",
       "    .dataframe tbody tr th {\n",
       "        vertical-align: top;\n",
       "    }\n",
       "\n",
       "    .dataframe thead th {\n",
       "        text-align: right;\n",
       "    }\n",
       "</style>\n",
       "<table border=\"1\" class=\"dataframe\">\n",
       "  <thead>\n",
       "    <tr style=\"text-align: right;\">\n",
       "      <th></th>\n",
       "      <th>customer_id</th>\n",
       "      <th>most_popular_category</th>\n",
       "      <th>relationship_days</th>\n",
       "      <th>total_spend</th>\n",
       "      <th>beverage_categories</th>\n",
       "      <th>prediction</th>\n",
       "    </tr>\n",
       "  </thead>\n",
       "  <tbody>\n",
       "    <tr>\n",
       "      <th>0</th>\n",
       "      <td>, 9GT0P908DS5VGJYRYG4CHAPSQG</td>\n",
       "      <td>sour</td>\n",
       "      <td>224</td>\n",
       "      <td>145.0</td>\n",
       "      <td>5</td>\n",
       "      <td></td>\n",
       "    </tr>\n",
       "    <tr>\n",
       "      <th>1</th>\n",
       "      <td>, D74N0TBT7D2K6YPYDA734V56Y4</td>\n",
       "      <td>seasonal</td>\n",
       "      <td>272</td>\n",
       "      <td>152.5</td>\n",
       "      <td>5</td>\n",
       "      <td></td>\n",
       "    </tr>\n",
       "    <tr>\n",
       "      <th>2</th>\n",
       "      <td>, XHN902RSGS7V6ZBWN7FE5QVGA4</td>\n",
       "      <td>ipa</td>\n",
       "      <td>371</td>\n",
       "      <td>55.0</td>\n",
       "      <td>3</td>\n",
       "      <td></td>\n",
       "    </tr>\n",
       "    <tr>\n",
       "      <th>3</th>\n",
       "      <td>, YDZ8kOpLlCLDlmom</td>\n",
       "      <td>softgoods</td>\n",
       "      <td>609</td>\n",
       "      <td>159.0</td>\n",
       "      <td>6</td>\n",
       "      <td></td>\n",
       "    </tr>\n",
       "    <tr>\n",
       "      <th>4</th>\n",
       "      <td>-uNXHhkiA5JEebdj</td>\n",
       "      <td>tasting/event</td>\n",
       "      <td>802</td>\n",
       "      <td>107.0</td>\n",
       "      <td>8</td>\n",
       "      <td></td>\n",
       "    </tr>\n",
       "  </tbody>\n",
       "</table>\n",
       "</div>"
      ],
      "text/plain": [
       "                    customer_id most_popular_category  relationship_days  \\\n",
       "0  , 9GT0P908DS5VGJYRYG4CHAPSQG                  sour                224   \n",
       "1  , D74N0TBT7D2K6YPYDA734V56Y4              seasonal                272   \n",
       "2  , XHN902RSGS7V6ZBWN7FE5QVGA4                   ipa                371   \n",
       "3            , YDZ8kOpLlCLDlmom             softgoods                609   \n",
       "4              -uNXHhkiA5JEebdj         tasting/event                802   \n",
       "\n",
       "   total_spend  beverage_categories prediction  \n",
       "0        145.0                    5             \n",
       "1        152.5                    5             \n",
       "2         55.0                    3             \n",
       "3        159.0                    6             \n",
       "4        107.0                    8             "
      ]
     },
     "execution_count": 17,
     "metadata": {},
     "output_type": "execute_result"
    }
   ],
   "source": [
    "testing.head()"
   ]
  },
  {
   "cell_type": "markdown",
   "id": "a24bf21a",
   "metadata": {},
   "source": [
    "### Creating a customer to test on"
   ]
  },
  {
   "cell_type": "code",
   "execution_count": 18,
   "id": "d8ead66a",
   "metadata": {},
   "outputs": [],
   "source": [
    "this_cust = testing.iloc[0,:]"
   ]
  },
  {
   "cell_type": "code",
   "execution_count": 19,
   "id": "10c9d897",
   "metadata": {},
   "outputs": [],
   "source": [
    "train['distance'] = ((train.loc[:,'relationship_days']-this_cust[2])**2 + (train.loc[:,'total_spend']-this_cust[3])**2 + (train.loc[:,'beverage_categories']-this_cust[4])**2)** 0.5\n",
    "\n"
   ]
  },
  {
   "cell_type": "code",
   "execution_count": 20,
   "id": "b38f94f6",
   "metadata": {},
   "outputs": [
    {
     "data": {
      "text/plain": [
       "customer_id              , 9GT0P908DS5VGJYRYG4CHAPSQG\n",
       "most_popular_category                            sour\n",
       "relationship_days                                 224\n",
       "total_spend                                     145.0\n",
       "beverage_categories                                 5\n",
       "prediction                                           \n",
       "Name: 0, dtype: object"
      ]
     },
     "execution_count": 20,
     "metadata": {},
     "output_type": "execute_result"
    }
   ],
   "source": [
    "#Let's look at their features\n",
    "this_cust"
   ]
  },
  {
   "cell_type": "code",
   "execution_count": 21,
   "id": "bbb6cb1b",
   "metadata": {
    "scrolled": false
   },
   "outputs": [
    {
     "data": {
      "text/html": [
       "<div>\n",
       "<style scoped>\n",
       "    .dataframe tbody tr th:only-of-type {\n",
       "        vertical-align: middle;\n",
       "    }\n",
       "\n",
       "    .dataframe tbody tr th {\n",
       "        vertical-align: top;\n",
       "    }\n",
       "\n",
       "    .dataframe thead th {\n",
       "        text-align: right;\n",
       "    }\n",
       "</style>\n",
       "<table border=\"1\" class=\"dataframe\">\n",
       "  <thead>\n",
       "    <tr style=\"text-align: right;\">\n",
       "      <th></th>\n",
       "      <th>relationship_days</th>\n",
       "      <th>total_spend</th>\n",
       "      <th>beverage_categories</th>\n",
       "      <th>segment</th>\n",
       "      <th>distance</th>\n",
       "    </tr>\n",
       "  </thead>\n",
       "  <tbody>\n",
       "    <tr>\n",
       "      <th>321</th>\n",
       "      <td>224</td>\n",
       "      <td>144.00</td>\n",
       "      <td>4</td>\n",
       "      <td>explorer</td>\n",
       "      <td>1.414214</td>\n",
       "    </tr>\n",
       "    <tr>\n",
       "      <th>2407</th>\n",
       "      <td>224</td>\n",
       "      <td>146.00</td>\n",
       "      <td>2</td>\n",
       "      <td>explorer</td>\n",
       "      <td>3.162278</td>\n",
       "    </tr>\n",
       "    <tr>\n",
       "      <th>1823</th>\n",
       "      <td>223</td>\n",
       "      <td>148.00</td>\n",
       "      <td>5</td>\n",
       "      <td>explorer</td>\n",
       "      <td>3.162278</td>\n",
       "    </tr>\n",
       "    <tr>\n",
       "      <th>5667</th>\n",
       "      <td>227</td>\n",
       "      <td>140.75</td>\n",
       "      <td>6</td>\n",
       "      <td>explorer</td>\n",
       "      <td>5.297405</td>\n",
       "    </tr>\n",
       "    <tr>\n",
       "      <th>11612</th>\n",
       "      <td>222</td>\n",
       "      <td>149.50</td>\n",
       "      <td>7</td>\n",
       "      <td>explorer</td>\n",
       "      <td>5.315073</td>\n",
       "    </tr>\n",
       "  </tbody>\n",
       "</table>\n",
       "</div>"
      ],
      "text/plain": [
       "       relationship_days  total_spend  beverage_categories   segment  distance\n",
       "321                  224       144.00                    4  explorer  1.414214\n",
       "2407                 224       146.00                    2  explorer  3.162278\n",
       "1823                 223       148.00                    5  explorer  3.162278\n",
       "5667                 227       140.75                    6  explorer  5.297405\n",
       "11612                222       149.50                    7  explorer  5.315073"
      ]
     },
     "execution_count": 21,
     "metadata": {},
     "output_type": "execute_result"
    }
   ],
   "source": [
    "#previewing dataset on distance\n",
    "train.sort_values('distance', ascending = True).head()"
   ]
  },
  {
   "cell_type": "code",
   "execution_count": 22,
   "id": "1b886537",
   "metadata": {},
   "outputs": [
    {
     "data": {
      "text/plain": [
       "['explorer',\n",
       " 'explorer',\n",
       " 'explorer',\n",
       " 'explorer',\n",
       " 'explorer',\n",
       " 'explorer',\n",
       " 'explorer']"
      ]
     },
     "execution_count": 22,
     "metadata": {},
     "output_type": "execute_result"
    }
   ],
   "source": [
    "k = 7\n",
    "train = train.sort_values('distance', ascending = True)\n",
    "knn = list(train.head(k).segment)\n",
    "knn"
   ]
  },
  {
   "cell_type": "code",
   "execution_count": 23,
   "id": "59677bb1",
   "metadata": {},
   "outputs": [
    {
     "name": "stdout",
     "output_type": "stream",
     "text": [
      "explorer\n"
     ]
    }
   ],
   "source": [
    "print(mode(knn))"
   ]
  },
  {
   "cell_type": "markdown",
   "id": "c20830ce",
   "metadata": {},
   "source": [
    "# Test prediction on row of dataset"
   ]
  },
  {
   "cell_type": "code",
   "execution_count": 24,
   "id": "55dffc58",
   "metadata": {},
   "outputs": [],
   "source": [
    "k = 7\n",
    "\n",
    "prediction = mode(train.sort_values('distance', ascending = True).head(k).segment)"
   ]
  },
  {
   "cell_type": "code",
   "execution_count": 25,
   "id": "f5df0bb3",
   "metadata": {
    "scrolled": true
   },
   "outputs": [],
   "source": [
    "testing.iloc[0,5] = prediction"
   ]
  },
  {
   "cell_type": "code",
   "execution_count": 26,
   "id": "0b630f42",
   "metadata": {},
   "outputs": [
    {
     "data": {
      "text/html": [
       "<div>\n",
       "<style scoped>\n",
       "    .dataframe tbody tr th:only-of-type {\n",
       "        vertical-align: middle;\n",
       "    }\n",
       "\n",
       "    .dataframe tbody tr th {\n",
       "        vertical-align: top;\n",
       "    }\n",
       "\n",
       "    .dataframe thead th {\n",
       "        text-align: right;\n",
       "    }\n",
       "</style>\n",
       "<table border=\"1\" class=\"dataframe\">\n",
       "  <thead>\n",
       "    <tr style=\"text-align: right;\">\n",
       "      <th></th>\n",
       "      <th>customer_id</th>\n",
       "      <th>most_popular_category</th>\n",
       "      <th>relationship_days</th>\n",
       "      <th>total_spend</th>\n",
       "      <th>beverage_categories</th>\n",
       "      <th>prediction</th>\n",
       "    </tr>\n",
       "  </thead>\n",
       "  <tbody>\n",
       "    <tr>\n",
       "      <th>0</th>\n",
       "      <td>, 9GT0P908DS5VGJYRYG4CHAPSQG</td>\n",
       "      <td>sour</td>\n",
       "      <td>224</td>\n",
       "      <td>145.0</td>\n",
       "      <td>5</td>\n",
       "      <td>explorer</td>\n",
       "    </tr>\n",
       "    <tr>\n",
       "      <th>1</th>\n",
       "      <td>, D74N0TBT7D2K6YPYDA734V56Y4</td>\n",
       "      <td>seasonal</td>\n",
       "      <td>272</td>\n",
       "      <td>152.5</td>\n",
       "      <td>5</td>\n",
       "      <td></td>\n",
       "    </tr>\n",
       "    <tr>\n",
       "      <th>2</th>\n",
       "      <td>, XHN902RSGS7V6ZBWN7FE5QVGA4</td>\n",
       "      <td>ipa</td>\n",
       "      <td>371</td>\n",
       "      <td>55.0</td>\n",
       "      <td>3</td>\n",
       "      <td></td>\n",
       "    </tr>\n",
       "    <tr>\n",
       "      <th>3</th>\n",
       "      <td>, YDZ8kOpLlCLDlmom</td>\n",
       "      <td>softgoods</td>\n",
       "      <td>609</td>\n",
       "      <td>159.0</td>\n",
       "      <td>6</td>\n",
       "      <td></td>\n",
       "    </tr>\n",
       "    <tr>\n",
       "      <th>4</th>\n",
       "      <td>-uNXHhkiA5JEebdj</td>\n",
       "      <td>tasting/event</td>\n",
       "      <td>802</td>\n",
       "      <td>107.0</td>\n",
       "      <td>8</td>\n",
       "      <td></td>\n",
       "    </tr>\n",
       "  </tbody>\n",
       "</table>\n",
       "</div>"
      ],
      "text/plain": [
       "                    customer_id most_popular_category  relationship_days  \\\n",
       "0  , 9GT0P908DS5VGJYRYG4CHAPSQG                  sour                224   \n",
       "1  , D74N0TBT7D2K6YPYDA734V56Y4              seasonal                272   \n",
       "2  , XHN902RSGS7V6ZBWN7FE5QVGA4                   ipa                371   \n",
       "3            , YDZ8kOpLlCLDlmom             softgoods                609   \n",
       "4              -uNXHhkiA5JEebdj         tasting/event                802   \n",
       "\n",
       "   total_spend  beverage_categories prediction  \n",
       "0        145.0                    5   explorer  \n",
       "1        152.5                    5             \n",
       "2         55.0                    3             \n",
       "3        159.0                    6             \n",
       "4        107.0                    8             "
      ]
     },
     "execution_count": 26,
     "metadata": {},
     "output_type": "execute_result"
    }
   ],
   "source": [
    "testing.head()"
   ]
  },
  {
   "cell_type": "markdown",
   "id": "460a410a",
   "metadata": {},
   "source": [
    "# For Loop Runs Entire Prediction Through Dataset\n",
    "This is an alternative way than just creating a column. This way is a safer option. "
   ]
  },
  {
   "cell_type": "code",
   "execution_count": 27,
   "id": "6bc55dac",
   "metadata": {},
   "outputs": [],
   "source": [
    "k = 25\n",
    "\n",
    "for row_idx in range(testing.shape[0]) : \n",
    "    this_cust = testing.iloc[row_idx,:]\n",
    "    train['distance'] = ((train.loc[:,'relationship_days']-this_cust[2])**2 + (train.loc[:,'total_spend']-this_cust[3])**2 + (train.loc[:,'beverage_categories']-this_cust[4])**2)** 0.5\n",
    "\n",
    "\n",
    "\n",
    "    prediction = mode(train.sort_values('distance', ascending = True).head(k).segment)\n",
    "    \n",
    "    testing.iloc[row_idx,5] = prediction\n",
    "    \n",
    "\n"
   ]
  },
  {
   "cell_type": "code",
   "execution_count": 43,
   "id": "c15a7c83",
   "metadata": {},
   "outputs": [
    {
     "data": {
      "text/html": [
       "<div>\n",
       "<style scoped>\n",
       "    .dataframe tbody tr th:only-of-type {\n",
       "        vertical-align: middle;\n",
       "    }\n",
       "\n",
       "    .dataframe tbody tr th {\n",
       "        vertical-align: top;\n",
       "    }\n",
       "\n",
       "    .dataframe thead th {\n",
       "        text-align: right;\n",
       "    }\n",
       "</style>\n",
       "<table border=\"1\" class=\"dataframe\">\n",
       "  <thead>\n",
       "    <tr style=\"text-align: right;\">\n",
       "      <th></th>\n",
       "      <th>customer_id</th>\n",
       "      <th>most_popular_category</th>\n",
       "      <th>relationship_days</th>\n",
       "      <th>total_spend</th>\n",
       "      <th>beverage_categories</th>\n",
       "      <th>prediction</th>\n",
       "      <th>segment</th>\n",
       "    </tr>\n",
       "  </thead>\n",
       "  <tbody>\n",
       "    <tr>\n",
       "      <th>0</th>\n",
       "      <td>, 9GT0P908DS5VGJYRYG4CHAPSQG</td>\n",
       "      <td>sour</td>\n",
       "      <td>224</td>\n",
       "      <td>145.0</td>\n",
       "      <td>5</td>\n",
       "      <td>explorer</td>\n",
       "      <td>explorer</td>\n",
       "    </tr>\n",
       "    <tr>\n",
       "      <th>1</th>\n",
       "      <td>, D74N0TBT7D2K6YPYDA734V56Y4</td>\n",
       "      <td>seasonal</td>\n",
       "      <td>272</td>\n",
       "      <td>152.5</td>\n",
       "      <td>5</td>\n",
       "      <td>explorer</td>\n",
       "      <td>explorer</td>\n",
       "    </tr>\n",
       "    <tr>\n",
       "      <th>2</th>\n",
       "      <td>, XHN902RSGS7V6ZBWN7FE5QVGA4</td>\n",
       "      <td>ipa</td>\n",
       "      <td>371</td>\n",
       "      <td>55.0</td>\n",
       "      <td>3</td>\n",
       "      <td>cheapo</td>\n",
       "      <td>cheapo</td>\n",
       "    </tr>\n",
       "    <tr>\n",
       "      <th>3</th>\n",
       "      <td>, YDZ8kOpLlCLDlmom</td>\n",
       "      <td>softgoods</td>\n",
       "      <td>609</td>\n",
       "      <td>159.0</td>\n",
       "      <td>6</td>\n",
       "      <td>loyal core</td>\n",
       "      <td>loyal core</td>\n",
       "    </tr>\n",
       "    <tr>\n",
       "      <th>4</th>\n",
       "      <td>-uNXHhkiA5JEebdj</td>\n",
       "      <td>tasting/event</td>\n",
       "      <td>802</td>\n",
       "      <td>107.0</td>\n",
       "      <td>8</td>\n",
       "      <td>loyal core</td>\n",
       "      <td>loyal core</td>\n",
       "    </tr>\n",
       "  </tbody>\n",
       "</table>\n",
       "</div>"
      ],
      "text/plain": [
       "                    customer_id most_popular_category  relationship_days  \\\n",
       "0  , 9GT0P908DS5VGJYRYG4CHAPSQG                  sour                224   \n",
       "1  , D74N0TBT7D2K6YPYDA734V56Y4              seasonal                272   \n",
       "2  , XHN902RSGS7V6ZBWN7FE5QVGA4                   ipa                371   \n",
       "3            , YDZ8kOpLlCLDlmom             softgoods                609   \n",
       "4              -uNXHhkiA5JEebdj         tasting/event                802   \n",
       "\n",
       "   total_spend  beverage_categories  prediction     segment  \n",
       "0        145.0                    5    explorer    explorer  \n",
       "1        152.5                    5    explorer    explorer  \n",
       "2         55.0                    3      cheapo      cheapo  \n",
       "3        159.0                    6  loyal core  loyal core  \n",
       "4        107.0                    8  loyal core  loyal core  "
      ]
     },
     "execution_count": 43,
     "metadata": {},
     "output_type": "execute_result"
    }
   ],
   "source": [
    "#Looks like the prediction is filled out\n",
    "testing.head()"
   ]
  },
  {
   "cell_type": "code",
   "execution_count": 29,
   "id": "4cbe1170",
   "metadata": {},
   "outputs": [
    {
     "data": {
      "text/plain": [
       "prediction\n",
       "newbie        562\n",
       "loyal core    516\n",
       "cheapo        451\n",
       "explorer      260\n",
       "dtype: int64"
      ]
     },
     "execution_count": 29,
     "metadata": {},
     "output_type": "execute_result"
    }
   ],
   "source": [
    "testing.value_counts(\"prediction\")"
   ]
  },
  {
   "cell_type": "markdown",
   "id": "104c4e34",
   "metadata": {},
   "source": [
    "## Checking Accuracy\n",
    "In this project, our professor provided a dataset with segments and customers so we could check the accuracy of our algorithm. "
   ]
  },
  {
   "cell_type": "code",
   "execution_count": 30,
   "id": "921897d5",
   "metadata": {},
   "outputs": [],
   "source": [
    "evaluation = pd.read_csv(\"testing-true-values.txt\", sep = \"\\t\")"
   ]
  },
  {
   "cell_type": "code",
   "execution_count": 31,
   "id": "dc704b9a",
   "metadata": {},
   "outputs": [
    {
     "data": {
      "text/html": [
       "<div>\n",
       "<style scoped>\n",
       "    .dataframe tbody tr th:only-of-type {\n",
       "        vertical-align: middle;\n",
       "    }\n",
       "\n",
       "    .dataframe tbody tr th {\n",
       "        vertical-align: top;\n",
       "    }\n",
       "\n",
       "    .dataframe thead th {\n",
       "        text-align: right;\n",
       "    }\n",
       "</style>\n",
       "<table border=\"1\" class=\"dataframe\">\n",
       "  <thead>\n",
       "    <tr style=\"text-align: right;\">\n",
       "      <th></th>\n",
       "      <th>customer_id</th>\n",
       "      <th>segment</th>\n",
       "    </tr>\n",
       "  </thead>\n",
       "  <tbody>\n",
       "    <tr>\n",
       "      <th>0</th>\n",
       "      <td>, 9GT0P908DS5VGJYRYG4CHAPSQG</td>\n",
       "      <td>explorer</td>\n",
       "    </tr>\n",
       "    <tr>\n",
       "      <th>1</th>\n",
       "      <td>, D74N0TBT7D2K6YPYDA734V56Y4</td>\n",
       "      <td>explorer</td>\n",
       "    </tr>\n",
       "    <tr>\n",
       "      <th>2</th>\n",
       "      <td>, XHN902RSGS7V6ZBWN7FE5QVGA4</td>\n",
       "      <td>cheapo</td>\n",
       "    </tr>\n",
       "    <tr>\n",
       "      <th>3</th>\n",
       "      <td>, YDZ8kOpLlCLDlmom</td>\n",
       "      <td>loyal core</td>\n",
       "    </tr>\n",
       "    <tr>\n",
       "      <th>4</th>\n",
       "      <td>-uNXHhkiA5JEebdj</td>\n",
       "      <td>loyal core</td>\n",
       "    </tr>\n",
       "  </tbody>\n",
       "</table>\n",
       "</div>"
      ],
      "text/plain": [
       "                    customer_id     segment\n",
       "0  , 9GT0P908DS5VGJYRYG4CHAPSQG    explorer\n",
       "1  , D74N0TBT7D2K6YPYDA734V56Y4    explorer\n",
       "2  , XHN902RSGS7V6ZBWN7FE5QVGA4      cheapo\n",
       "3            , YDZ8kOpLlCLDlmom  loyal core\n",
       "4              -uNXHhkiA5JEebdj  loyal core"
      ]
     },
     "execution_count": 31,
     "metadata": {},
     "output_type": "execute_result"
    }
   ],
   "source": [
    "evaluation.head()"
   ]
  },
  {
   "cell_type": "markdown",
   "id": "6456af2b",
   "metadata": {},
   "source": [
    "# Merged together \"true\" DF to Test Accuracy"
   ]
  },
  {
   "cell_type": "code",
   "execution_count": 32,
   "id": "a1e3dd3a",
   "metadata": {},
   "outputs": [],
   "source": [
    "testing = testing.merge(evaluation, on=\"customer_id\")"
   ]
  },
  {
   "cell_type": "code",
   "execution_count": 33,
   "id": "35ac3713",
   "metadata": {},
   "outputs": [
    {
     "data": {
      "text/html": [
       "<div>\n",
       "<style scoped>\n",
       "    .dataframe tbody tr th:only-of-type {\n",
       "        vertical-align: middle;\n",
       "    }\n",
       "\n",
       "    .dataframe tbody tr th {\n",
       "        vertical-align: top;\n",
       "    }\n",
       "\n",
       "    .dataframe thead th {\n",
       "        text-align: right;\n",
       "    }\n",
       "</style>\n",
       "<table border=\"1\" class=\"dataframe\">\n",
       "  <thead>\n",
       "    <tr style=\"text-align: right;\">\n",
       "      <th></th>\n",
       "      <th>customer_id</th>\n",
       "      <th>most_popular_category</th>\n",
       "      <th>relationship_days</th>\n",
       "      <th>total_spend</th>\n",
       "      <th>beverage_categories</th>\n",
       "      <th>prediction</th>\n",
       "      <th>segment</th>\n",
       "    </tr>\n",
       "  </thead>\n",
       "  <tbody>\n",
       "    <tr>\n",
       "      <th>0</th>\n",
       "      <td>, 9GT0P908DS5VGJYRYG4CHAPSQG</td>\n",
       "      <td>sour</td>\n",
       "      <td>224</td>\n",
       "      <td>145.0</td>\n",
       "      <td>5</td>\n",
       "      <td>explorer</td>\n",
       "      <td>explorer</td>\n",
       "    </tr>\n",
       "    <tr>\n",
       "      <th>1</th>\n",
       "      <td>, D74N0TBT7D2K6YPYDA734V56Y4</td>\n",
       "      <td>seasonal</td>\n",
       "      <td>272</td>\n",
       "      <td>152.5</td>\n",
       "      <td>5</td>\n",
       "      <td>explorer</td>\n",
       "      <td>explorer</td>\n",
       "    </tr>\n",
       "    <tr>\n",
       "      <th>2</th>\n",
       "      <td>, XHN902RSGS7V6ZBWN7FE5QVGA4</td>\n",
       "      <td>ipa</td>\n",
       "      <td>371</td>\n",
       "      <td>55.0</td>\n",
       "      <td>3</td>\n",
       "      <td>cheapo</td>\n",
       "      <td>cheapo</td>\n",
       "    </tr>\n",
       "    <tr>\n",
       "      <th>3</th>\n",
       "      <td>, YDZ8kOpLlCLDlmom</td>\n",
       "      <td>softgoods</td>\n",
       "      <td>609</td>\n",
       "      <td>159.0</td>\n",
       "      <td>6</td>\n",
       "      <td>loyal core</td>\n",
       "      <td>loyal core</td>\n",
       "    </tr>\n",
       "    <tr>\n",
       "      <th>4</th>\n",
       "      <td>-uNXHhkiA5JEebdj</td>\n",
       "      <td>tasting/event</td>\n",
       "      <td>802</td>\n",
       "      <td>107.0</td>\n",
       "      <td>8</td>\n",
       "      <td>loyal core</td>\n",
       "      <td>loyal core</td>\n",
       "    </tr>\n",
       "  </tbody>\n",
       "</table>\n",
       "</div>"
      ],
      "text/plain": [
       "                    customer_id most_popular_category  relationship_days  \\\n",
       "0  , 9GT0P908DS5VGJYRYG4CHAPSQG                  sour                224   \n",
       "1  , D74N0TBT7D2K6YPYDA734V56Y4              seasonal                272   \n",
       "2  , XHN902RSGS7V6ZBWN7FE5QVGA4                   ipa                371   \n",
       "3            , YDZ8kOpLlCLDlmom             softgoods                609   \n",
       "4              -uNXHhkiA5JEebdj         tasting/event                802   \n",
       "\n",
       "   total_spend  beverage_categories  prediction     segment  \n",
       "0        145.0                    5    explorer    explorer  \n",
       "1        152.5                    5    explorer    explorer  \n",
       "2         55.0                    3      cheapo      cheapo  \n",
       "3        159.0                    6  loyal core  loyal core  \n",
       "4        107.0                    8  loyal core  loyal core  "
      ]
     },
     "execution_count": 33,
     "metadata": {},
     "output_type": "execute_result"
    }
   ],
   "source": [
    "testing.head()"
   ]
  },
  {
   "cell_type": "markdown",
   "id": "3f5259a9",
   "metadata": {},
   "source": [
    "## Overview of Accuracy"
   ]
  },
  {
   "cell_type": "code",
   "execution_count": 37,
   "id": "e5383096",
   "metadata": {},
   "outputs": [
    {
     "name": "stdout",
     "output_type": "stream",
     "text": [
      "[[444   0   7   0]\n",
      " [  0 258   1   1]\n",
      " [  0   3 513   0]\n",
      " [  0   1   0 561]]\n"
     ]
    }
   ],
   "source": [
    "print(confusion_matrix(testing.prediction, testing.segment))"
   ]
  },
  {
   "cell_type": "code",
   "execution_count": 38,
   "id": "9f2d139b",
   "metadata": {},
   "outputs": [
    {
     "name": "stdout",
     "output_type": "stream",
     "text": [
      "              precision    recall  f1-score   support\n",
      "\n",
      "      cheapo       1.00      0.98      0.99       451\n",
      "    explorer       0.98      0.99      0.99       260\n",
      "  loyal core       0.98      0.99      0.99       516\n",
      "      newbie       1.00      1.00      1.00       562\n",
      "\n",
      "    accuracy                           0.99      1789\n",
      "   macro avg       0.99      0.99      0.99      1789\n",
      "weighted avg       0.99      0.99      0.99      1789\n",
      "\n"
     ]
    }
   ],
   "source": [
    "print(classification_report(testing.prediction, testing.segment))\n"
   ]
  },
  {
   "cell_type": "markdown",
   "id": "bd855716",
   "metadata": {},
   "source": [
    "# Scatter Plot of Predicted Segmentation vs. True Segments "
   ]
  },
  {
   "cell_type": "code",
   "execution_count": 39,
   "id": "1e7c08d6",
   "metadata": {},
   "outputs": [
    {
     "data": {
      "text/plain": [
       "Text(0.5, 1.0, 'Dram Data Predicited Segmentation Scatter Plot')"
      ]
     },
     "execution_count": 39,
     "metadata": {},
     "output_type": "execute_result"
    },
    {
     "data": {
      "image/png": "[encoded data removed]",
      "text/plain": [
       "<Figure size 432x288 with 1 Axes>"
      ]
     },
     "metadata": {
      "needs_background": "light"
     },
     "output_type": "display_data"
    }
   ],
   "source": [
    "colors = {'cheapo':'red', 'newbie':'blue', 'explorer':'yellow', 'loyal core':'green' }\n",
    "\n",
    "plt.scatter(\n",
    "    testing['relationship_days'],\n",
    "    testing['total_spend'],\n",
    "    c = testing['prediction'].map(colors))\n",
    "plt.scatter(testing['total_spend'], testing['beverage_categories'], c='orange')\n",
    "plt.xlabel('relationship days')\n",
    "plt.ylabel('total_spend')\n",
    "plt.title('Dram Data Predicited Segmentation Scatter Plot')"
   ]
  },
  {
   "cell_type": "code",
   "execution_count": 40,
   "id": "46fa0096",
   "metadata": {},
   "outputs": [
    {
     "data": {
      "text/plain": [
       "Text(0.5, 1.0, 'Dram Data True Segmentation Scatter Plot')"
      ]
     },
     "execution_count": 40,
     "metadata": {},
     "output_type": "execute_result"
    },
    {
     "data": {
      "image/png": "[encoded data removed]",
      "text/plain": [
       "<Figure size 432x288 with 1 Axes>"
      ]
     },
     "metadata": {
      "needs_background": "light"
     },
     "output_type": "display_data"
    }
   ],
   "source": [
    "colors = {'cheapo':'red', 'newbie':'blue', 'explorer':'yellow', 'loyal core':'green' }\n",
    "\n",
    "plt.scatter(\n",
    "    testing['relationship_days'],\n",
    "    testing['total_spend'],\n",
    "    c = testing['segment'].map(colors))\n",
    "plt.scatter(testing['total_spend'], testing['beverage_categories'], c='orange')\n",
    "plt.xlabel('relationship days')\n",
    "plt.ylabel('total_spend')\n",
    "plt.title('Dram Data True Segmentation Scatter Plot')"
   ]
  }
 ],
 "metadata": {
  "kernelspec": {
   "display_name": "Python 3 (ipykernel)",
   "language": "python",
   "name": "python3"
  },
  "language_info": {
   "codemirror_mode": {
    "name": "ipython",
    "version": 3
   },
   "file_extension": ".py",
   "mimetype": "text/x-python",
   "name": "python",
   "nbconvert_exporter": "python",
   "pygments_lexer": "ipython3",
   "version": "3.9.12"
  }
 },
 "nbformat": 4,
 "nbformat_minor": 5
}
